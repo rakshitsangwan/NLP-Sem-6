{
  "nbformat": 4,
  "nbformat_minor": 0,
  "metadata": {
    "colab": {
      "provenance": []
    },
    "kernelspec": {
      "name": "python3",
      "display_name": "Python 3"
    },
    "language_info": {
      "name": "python"
    }
  },
  "cells": [
    {
      "cell_type": "code",
      "execution_count": 5,
      "metadata": {
        "colab": {
          "base_uri": "https://localhost:8080/"
        },
        "id": "3C6n5FOolSQo",
        "outputId": "552a8e3e-af96-4e36-8dc5-3e2f5c05fbfb"
      },
      "outputs": [
        {
          "output_type": "stream",
          "name": "stderr",
          "text": [
            "[nltk_data] Downloading package punkt to /root/nltk_data...\n",
            "[nltk_data]   Package punkt is already up-to-date!\n",
            "[nltk_data] Downloading package wordnet to /root/nltk_data...\n"
          ]
        }
      ],
      "source": [
        "import nltk\n",
        "nltk.download('punkt')\n",
        "nltk.download('wordnet')\n",
        "from nltk.stem import PorterStemmer, WordNetLemmatizer\n",
        "from nltk.tokenize import word_tokenize"
      ]
    },
    {
      "cell_type": "code",
      "source": [
        "text = input(\"Enter text\")\n",
        "\n",
        "words = word_tokenize(text)\n",
        "\n",
        "porter_stemmer = PorterStemmer()\n",
        "stemmed_words = [porter_stemmer.stem(word) for word in words]\n",
        "\n",
        "print(\"Stemmed Words:\")\n",
        "print(stemmed_words)\n",
        "\n",
        "wordnet_lemmatizer = WordNetLemmatizer()\n",
        "lemmatized_words = [wordnet_lemmatizer.lemmatize(word) for word in words]\n",
        "\n",
        "print(\"\\nLemmatized Words:\")\n",
        "print(lemmatized_words)"
      ],
      "metadata": {
        "colab": {
          "base_uri": "https://localhost:8080/"
        },
        "id": "Hl7B4Liilrz_",
        "outputId": "4a3ae2ce-dbff-4f34-b28c-704678fff8d2"
      },
      "execution_count": 6,
      "outputs": [
        {
          "output_type": "stream",
          "name": "stdout",
          "text": [
            "Enter textI have a specific type of work in this space, cu.\n",
            "Stemmed Words:\n",
            "['i', 'have', 'a', 'specif', 'type', 'of', 'work', 'in', 'thi', 'space', ',', 'cu', '.']\n",
            "\n",
            "Lemmatized Words:\n",
            "['I', 'have', 'a', 'specific', 'type', 'of', 'work', 'in', 'this', 'space', ',', 'cu', '.']\n"
          ]
        }
      ]
    }
  ]
}
