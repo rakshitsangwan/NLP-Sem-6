{
  "cells": [
    {
      "cell_type": "code",
      "execution_count": 4,
      "id": "b46f2e4d",
      "metadata": {
        "colab": {
          "base_uri": "https://localhost:8080/"
        },
        "id": "b46f2e4d",
        "outputId": "6740f1fc-4786-4f4e-f8f5-78438d90bd8d"
      },
      "outputs": [
        {
          "output_type": "stream",
          "name": "stdout",
          "text": [
            "Requirement already satisfied: nltk in /usr/local/lib/python3.10/dist-packages (3.8.1)\n",
            "Requirement already satisfied: click in /usr/local/lib/python3.10/dist-packages (from nltk) (8.1.7)\n",
            "Requirement already satisfied: joblib in /usr/local/lib/python3.10/dist-packages (from nltk) (1.4.0)\n",
            "Requirement already satisfied: regex>=2021.8.3 in /usr/local/lib/python3.10/dist-packages (from nltk) (2023.12.25)\n",
            "Requirement already satisfied: tqdm in /usr/local/lib/python3.10/dist-packages (from nltk) (4.66.2)\n",
            "/usr/lib/python3.10/runpy.py:126: RuntimeWarning: 'nltk.downloader' found in sys.modules after import of package 'nltk', but prior to execution of 'nltk.downloader'; this may result in unpredictable behaviour\n",
            "  warn(RuntimeWarning(msg))\n",
            "[nltk_data] Downloading package vader_lexicon to /root/nltk_data...\n"
          ]
        }
      ],
      "source": [
        "import nltk\n",
        "from nltk.sentiment import SentimentIntensityAnalyzer\n",
        "from textblob import TextBlob\n",
        "\n",
        "!pip install nltk\n",
        "!python -m nltk.downloader vader_lexicon\n"
      ]
    },
    {
      "cell_type": "code",
      "execution_count": 5,
      "id": "bf21a25a",
      "metadata": {
        "id": "bf21a25a"
      },
      "outputs": [],
      "source": [
        "def analyze_sentiment(review):\n",
        "    # NLTK's SentimentIntensityAnalyzer\n",
        "    sia = SentimentIntensityAnalyzer()\n",
        "    nltk_sentiment = sia.polarity_scores(review)\n",
        "\n",
        "    # TextBlob's sentiment analysis\n",
        "    tb_sentiment = TextBlob(review).sentiment\n",
        "\n",
        "    # Determine overall sentiment based on compound score from NLTK\n",
        "    sentiment = \"\"\n",
        "    if nltk_sentiment['compound'] >= 0.05:\n",
        "        sentiment = \"Positive 😀\"\n",
        "    elif nltk_sentiment['compound'] <= -0.05:\n",
        "        sentiment = \"Negative 😞\"\n",
        "    else:\n",
        "        sentiment = \"Neutral 😐\"\n",
        "\n",
        "    return nltk_sentiment, tb_sentiment, sentiment\n",
        "\n"
      ]
    },
    {
      "cell_type": "code",
      "execution_count": 6,
      "id": "db0aa03e",
      "metadata": {
        "colab": {
          "base_uri": "https://localhost:8080/"
        },
        "id": "db0aa03e",
        "outputId": "462d87de-c672-4893-a92f-9d448137d597"
      },
      "outputs": [
        {
          "output_type": "stream",
          "name": "stdout",
          "text": [
            "NLTK Sentiment Analysis: {'neg': 0.0, 'neu': 0.625, 'pos': 0.375, 'compound': 0.9298}\n",
            "TextBlob Sentiment Analysis: Sentiment(polarity=0.41500000000000004, subjectivity=0.54)\n",
            "Overall Sentiment: Positive 😀\n"
          ]
        }
      ],
      "source": [
        "# Example movie review\n",
        "review = \"I absolutely loved this movie! The acting was superb and the plot kept me on the edge of my seat the whole time. Definitely recommend it to everyone. 👍\"\n",
        "\n",
        "# Analyze sentiment\n",
        "nltk_sentiment, tb_sentiment, overall_sentiment = analyze_sentiment(review)\n",
        "\n",
        "# Output results\n",
        "print(\"NLTK Sentiment Analysis:\", nltk_sentiment)\n",
        "print(\"TextBlob Sentiment Analysis:\", tb_sentiment)\n",
        "print(\"Overall Sentiment:\", overall_sentiment)\n"
      ]
    },
    {
      "cell_type": "code",
      "execution_count": null,
      "id": "4b83badc",
      "metadata": {
        "id": "4b83badc"
      },
      "outputs": [],
      "source": []
    }
  ],
  "metadata": {
    "kernelspec": {
      "display_name": "Python 3 (ipykernel)",
      "language": "python",
      "name": "python3"
    },
    "language_info": {
      "codemirror_mode": {
        "name": "ipython",
        "version": 3
      },
      "file_extension": ".py",
      "mimetype": "text/x-python",
      "name": "python",
      "nbconvert_exporter": "python",
      "pygments_lexer": "ipython3",
      "version": "3.10.9"
    },
    "colab": {
      "provenance": []
    }
  },
  "nbformat": 4,
  "nbformat_minor": 5
}